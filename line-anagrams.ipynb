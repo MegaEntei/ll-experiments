{
 "cells": [
  {
   "cell_type": "markdown",
   "metadata": {},
   "source": [
    "# Line anagrams"
   ]
  },
  {
   "cell_type": "markdown",
   "metadata": {},
   "source": [
    "Seen on Twitter, 1/25/18:\n",
    "\n",
    "- Last updated 1/25/18 1:56pm"
   ]
  },
  {
   "cell_type": "code",
   "execution_count": 1,
   "metadata": {},
   "outputs": [],
   "source": [
    "# Imports\n",
    "\n",
    "import os\n",
    "import string\n",
    "import re\n",
    "import html  \n",
    "\n",
    "from pprint import pprint\n",
    "\n",
    "from cltk.corpus.latin import latinlibrary\n",
    "from cltk.tokenize.line import LineTokenizer\n",
    "from cltk.stem.latin.j_v import JVReplacer"
   ]
  },
  {
   "cell_type": "code",
   "execution_count": 2,
   "metadata": {},
   "outputs": [],
   "source": [
    "# Setup CLTK tools\n",
    "\n",
    "line_tokenizer = LineTokenizer('latin')\n",
    "replacer = JVReplacer()"
   ]
  },
  {
   "cell_type": "code",
   "execution_count": 3,
   "metadata": {},
   "outputs": [],
   "source": [
    "# Let's start with what we already know...\n",
    "# There is at least one three-word hexameter in Horace's *Satires*\n",
    "\n",
    "# So we get the two Satires files from the Latin Library...\n",
    "files = latinlibrary.fileids()"
   ]
  },
  {
   "cell_type": "code",
   "execution_count": 4,
   "metadata": {},
   "outputs": [],
   "source": [
    "# We need to get a list of hexameter poems in the Latin Library. This\n",
    "# may be a good thing to automate in the future, but for now it is\n",
    "# going to take a bit of knowledge of Latin poetry and some hard-coded\n",
    "# filenames. I'll update this as I think of more, but I'll get it\n",
    "# started with the basics. And I'll skip all of the hexameter lines\n",
    "# from elegy for now, but they really should be included in the\n",
    "# update as well.\n",
    "\n",
    "# Basing the first pass on (Berstein, Gervias, Lin 2015) Table 1\n",
    "# http://www.digitalhumanities.org/dhq/vol/9/3/000237/000237.html\n",
    "\n",
    "lucretius = [file for file in files if 'lucr' in file]\n",
    "vergil = [file for file in files if 'vergil/' in file]\n",
    "horace = [file for file in files if 'horace/ars' in file]\n",
    "horace += [file for file in files if 'horace/epi' in file]\n",
    "horace += [file for file in files if 'horace/serm' in file]\n",
    "ovid = [file for file in files if 'ovid.m' in file]\n",
    "manilius = [file for file in files if 'manil' in file]\n",
    "persius = [file for file in files if 'persius.txt' in file]\n",
    "lucan = [file for file in files if 'lucan/' in file]\n",
    "ilias = [file for file in files if 'ilias' in file]\n",
    "statius = [file for file in files if 'statius/ac' in file]\n",
    "statius += [file for file in files if 'statius/th' in file]\n",
    "silius = [file for file in files if 'silius' in file]\n",
    "valerius = [file for file in files if 'valer' in file]\n",
    "juvenal = [file for file in files if 'juv' in file]\n",
    "# juvencus -- Not in LL?\n",
    "ausonius = [file for file in files if 'aus.mos' in file]\n",
    "claudian = [file for file in files if 'claudian.pros' in file]\n",
    "# other works of Claudian?\n",
    "# corippus -- Not in LL?\n",
    "\n",
    "hexameter_files = lucretius + vergil + horace + ovid + manilius \\\n",
    "                + persius + lucan + ilias + statius + silius \\\n",
    "                + valerius + juvenal + ausonius + claudian"
   ]
  },
  {
   "cell_type": "code",
   "execution_count": 5,
   "metadata": {},
   "outputs": [],
   "source": [
    "# Preprocess texts\n",
    "\n",
    "def preprocess(text):\n",
    "\n",
    "    remove_list = [r'\\bHorace: .+',\n",
    "                   r'\\bAppendix Vergiliana\\b',\n",
    "                   r'\\bThe Miscellany\\b',\n",
    "                   r'\\bThe Latin Library\\b',\n",
    "                   r'\\bThe Classics Page',\n",
    "                   r'\\bThe Classics Homepage',\n",
    "                   r'\\bSermonum Liber .+\\b',\n",
    "                   r'\\bVergil: Aeneid .+\\b',\n",
    "                   r'\\bManilius, Liber .+\\b',\n",
    "                   r'\\bMetamorposes\\b',\n",
    "                   r'\\bLucan Liber .+',\n",
    "                   r'\\bStatius: Thebaid .+',\n",
    "                   r'\\bStatius: Achilleid .+',\n",
    "                   r'\\bValerius Flaccus: Liber .+',\n",
    "                   r'\\bSERMONVM Q. HORATI FLACCI LIBER .+?\\b',\n",
    "                   r'PVBLIVS PAPINIVS STATIVS',\n",
    "                   r'Silius, Liber .+'\n",
    "                  ]\n",
    "    \n",
    "    for pattern in remove_list:\n",
    "        text = re.sub(pattern, '', text)\n",
    "    \n",
    "    text = html.unescape(text) # Handle html entities\n",
    "    text = re.sub(r'&nbsp;?', ' ',text) #&nbsp; stripped incorrectly in corpus?\n",
    "    text = re.sub(r'\\x00',' ',text) #Another space problem?\n",
    "    \n",
    "    # Fix partial lines\n",
    "    text = re.sub(r'\\d+(a|b)', ' ', text)\n",
    "        \n",
    "    text = text.lower()\n",
    "    text = replacer.replace(text) #Normalize u/v & i/j    \n",
    "    \n",
    "    punctuation =\"\\\"#$%&\\'()*+,-/:;<=>@[\\]^_`{|}~.?!«»\"\n",
    "    translator = str.maketrans({key: \" \" for key in punctuation})\n",
    "    text = text.translate(translator)\n",
    "    \n",
    "    translator = str.maketrans({key: \" \" for key in '0123456789'})\n",
    "    text = text.translate(translator)\n",
    "    \n",
    "    text = re.sub('[ ]+',' ', text) # Remove double spaces\n",
    "    text = re.sub('\\s+\\n+\\s+','\\n', text) # Remove double lines and trim spaces around new lines\n",
    "    \n",
    "    return text"
   ]
  },
  {
   "cell_type": "code",
   "execution_count": 6,
   "metadata": {},
   "outputs": [],
   "source": [
    "# Preprocess files as above\n",
    "\n",
    "hexameter_raw = [latinlibrary.raw(file) for file in hexameter_files]\n",
    "hexameter_edit = [preprocess(raw) for raw in hexameter_raw] # need to preprocess LL paratexts\n",
    "hexameter_lines = [line_tokenizer.tokenize(text) for text in hexameter_edit]"
   ]
  },
  {
   "cell_type": "code",
   "execution_count": 7,
   "metadata": {},
   "outputs": [],
   "source": [
    "def alphabetize_tokens(word):\n",
    "    word = ''.join(sorted(word))\n",
    "    return word\n",
    "\n",
    "def alphabetize_tokens_line(line):\n",
    "    line_tokens = line.split()\n",
    "    return [alphabetize_tokens(token) for token in line_tokens]\n",
    "\n",
    "def check_anagram(tokens):\n",
    "    return len(tokens) != len(set(tokens))"
   ]
  },
  {
   "cell_type": "code",
   "execution_count": 8,
   "metadata": {},
   "outputs": [
    {
     "name": "stdout",
     "output_type": "stream",
     "text": [
      "serpentis cauda procero corpore utrumque \n",
      "ne quiquam quoniam tu animo tamen omnia possis \n",
      "omnia praecepi atque animo mecum ante peregi \n",
      "pulsa palus \n",
      "maxima pars uatum pater et iuuenes patre digni \n",
      "ad talos stola demissa et circumdata palla \n",
      "cumque animo et uigili perspexerat omnia cura \n",
      "deseruit patrios idaque altrice relicta \n",
      "ut primum soceri data copia dextera dextrae \n",
      "uiuacisque iecur cerui quibus insuper addit \n",
      "haesit et ad cautes adducto fune secuta est \n",
      "nymphaeumque tenent nudas aquilonibus undas \n",
      "inuidia sacrae caesar ne tangere famae \n",
      "collatusque haeret pede pes et dextera dextrae \n",
      "prima per attonitas nigrae regina cateruae\n",
      "dicta dies aderat cadit ingens rite tonanti \n",
      "sera quidem manet ira tamen sic fatus et arces \n",
      "desertam ductore ratem bonus ille per artem \n",
      "pinifero fractaeque ruunt super agmina rupes \n",
      "saeua ma gis thalamos excussaque uincla quod ausae \n",
      "arbitrio manet illa tamen iactura nec umquam \n",
      "21\n"
     ]
    }
   ],
   "source": [
    "count = 0\n",
    "\n",
    "for work in hexameter_lines:\n",
    "    for line in work:\n",
    "        line_mod = line.split()\n",
    "        line_mod = set(line_mod)\n",
    "        line_mod = [token for token in line_mod if len(token) >= 5]\n",
    "        line_mod = \" \".join(line_mod)\n",
    "        if check_anagram(alphabetize_tokens_line(line_mod)):\n",
    "            count += 1\n",
    "            print(original)\n",
    "    \n",
    "print(count)"
   ]
  }
 ],
 "metadata": {
  "kernelspec": {
   "display_name": "Python 3",
   "language": "python",
   "name": "python3"
  },
  "language_info": {
   "codemirror_mode": {
    "name": "ipython",
    "version": 3
   },
   "file_extension": ".py",
   "mimetype": "text/x-python",
   "name": "python",
   "nbconvert_exporter": "python",
   "pygments_lexer": "ipython3",
   "version": "3.6.2"
  }
 },
 "nbformat": 4,
 "nbformat_minor": 1
}
